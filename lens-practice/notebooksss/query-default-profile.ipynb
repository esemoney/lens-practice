{
 "cells": [
  {
   "cell_type": "code",
   "execution_count": 1,
   "id": "a53cd552",
   "metadata": {},
   "outputs": [],
   "source": [
    "import requests\n",
    "import json\n",
    "import pandas as pd"
   ]
  },
  {
   "cell_type": "markdown",
   "id": "2a6b700d",
   "metadata": {},
   "source": [
    "## trying vitalik's address"
   ]
  },
  {
   "cell_type": "markdown",
   "id": "87cc5525",
   "metadata": {},
   "source": [
    "the query below returns the default profile for the wallet, 0xd8dA6BF26964aF9D7eEd9e03E53415D37aA96045. A wallet can own many profiles but can set a default similar to how ens works with its resolvers."
   ]
  },
  {
   "cell_type": "code",
   "execution_count": 14,
   "id": "0fc3db47",
   "metadata": {},
   "outputs": [],
   "source": [
    "query_vitalik_default = \"\"\"query DefaultProfile {\n",
    "  defaultProfile(request: { ethereumAddress: \"0xd8dA6BF26964aF9D7eEd9e03E53415D37aA96045\"}) {\n",
    "    id\n",
    "    name\n",
    "    bio\n",
    "    isDefault\n",
    "    attributes {\n",
    "      displayType\n",
    "      traitType\n",
    "      key\n",
    "      value\n",
    "    }\n",
    "    followNftAddress\n",
    "    metadata\n",
    "    handle\n",
    "    picture {\n",
    "      ... on NftImage {\n",
    "        contractAddress\n",
    "        tokenId\n",
    "        uri\n",
    "        chainId\n",
    "        verified\n",
    "      }\n",
    "      ... on MediaSet {\n",
    "        original {\n",
    "          url\n",
    "          mimeType\n",
    "        }\n",
    "      }\n",
    "    }\n",
    "    coverPicture {\n",
    "      ... on NftImage {\n",
    "        contractAddress\n",
    "        tokenId\n",
    "        uri\n",
    "        chainId\n",
    "        verified\n",
    "      }\n",
    "      ... on MediaSet {\n",
    "        original {\n",
    "          url\n",
    "          mimeType\n",
    "        }\n",
    "      }\n",
    "    }\n",
    "    ownedBy\n",
    "    dispatcher {\n",
    "      address\n",
    "      canUseRelay\n",
    "    }\n",
    "    stats {\n",
    "      totalFollowers\n",
    "      totalFollowing\n",
    "      totalPosts\n",
    "      totalComments\n",
    "      totalMirrors\n",
    "      totalPublications\n",
    "      totalCollects\n",
    "    }\n",
    "    followModule {\n",
    "      ... on FeeFollowModuleSettings {\n",
    "        type\n",
    "        contractAddress\n",
    "        amount {\n",
    "          asset {\n",
    "            name\n",
    "            symbol\n",
    "            decimals\n",
    "            address\n",
    "          }\n",
    "          value\n",
    "        }\n",
    "        recipient\n",
    "      }\n",
    "      ... on ProfileFollowModuleSettings {\n",
    "       type\n",
    "      }\n",
    "      ... on RevertFollowModuleSettings {\n",
    "       type\n",
    "      }\n",
    "    }\n",
    "  }\n",
    "}\"\"\""
   ]
  },
  {
   "cell_type": "code",
   "execution_count": 15,
   "id": "904546b0",
   "metadata": {},
   "outputs": [
    {
     "name": "stdout",
     "output_type": "stream",
     "text": [
      "200\n",
      "{\"data\":{\"defaultProfile\":null}}\n",
      "\n"
     ]
    }
   ],
   "source": [
    "url = 'https://api-mumbai.lens.dev/playground'\n",
    "r = requests.post(url, json={'query': query_vitalik_default})\n",
    "print(r.status_code)\n",
    "print(r.text)"
   ]
  },
  {
   "cell_type": "markdown",
   "id": "7b30ab9d",
   "metadata": {},
   "source": [
    "here, null is returned as the user has not yet set a default profile. "
   ]
  },
  {
   "cell_type": "markdown",
   "id": "58eba9f8",
   "metadata": {},
   "source": [
    "vitalik.eth has no lens profiles :("
   ]
  }
 ],
 "metadata": {
  "kernelspec": {
   "display_name": "Python 3 (ipykernel)",
   "language": "python",
   "name": "python3"
  },
  "language_info": {
   "codemirror_mode": {
    "name": "ipython",
    "version": 3
   },
   "file_extension": ".py",
   "mimetype": "text/x-python",
   "name": "python",
   "nbconvert_exporter": "python",
   "pygments_lexer": "ipython3",
   "version": "3.8.7"
  }
 },
 "nbformat": 4,
 "nbformat_minor": 5
}
