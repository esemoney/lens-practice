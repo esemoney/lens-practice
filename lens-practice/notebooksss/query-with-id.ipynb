{
 "cells": [
  {
   "cell_type": "markdown",
   "id": "7c2f0717",
   "metadata": {},
   "source": [
    "# playing with the lens api by querying profile id"
   ]
  },
  {
   "cell_type": "code",
   "execution_count": 1,
   "id": "72356433",
   "metadata": {},
   "outputs": [],
   "source": [
    "import requests\n",
    "import json\n",
    "import pandas as pd"
   ]
  },
  {
   "cell_type": "markdown",
   "id": "f3a0f2c6",
   "metadata": {},
   "source": [
    "here, i query **0x05**, the the id of the profile *stani.lens*"
   ]
  },
  {
   "cell_type": "code",
   "execution_count": 2,
   "id": "c3c61d3f",
   "metadata": {},
   "outputs": [],
   "source": [
    "query_with_id = \"\"\"query Profiles {\n",
    "  profiles(request: { profileIds: [\"0x05\"], limit: 10 }) {\n",
    "    items {\n",
    "      id\n",
    "      name\n",
    "      bio\n",
    "      attributes {\n",
    "        displayType\n",
    "        traitType\n",
    "        key\n",
    "        value\n",
    "      }\n",
    "      followNftAddress\n",
    "      metadata\n",
    "      isDefault\n",
    "      picture {\n",
    "        ... on NftImage {\n",
    "          contractAddress\n",
    "          tokenId\n",
    "          uri\n",
    "          verified\n",
    "        }\n",
    "        ... on MediaSet {\n",
    "          original {\n",
    "            url\n",
    "            mimeType\n",
    "          }\n",
    "        }\n",
    "        __typename\n",
    "      }\n",
    "      handle\n",
    "      coverPicture {\n",
    "        ... on NftImage {\n",
    "          contractAddress\n",
    "          tokenId\n",
    "          uri\n",
    "          verified\n",
    "        }\n",
    "        ... on MediaSet {\n",
    "          original {\n",
    "            url\n",
    "            mimeType\n",
    "          }\n",
    "        }\n",
    "        __typename\n",
    "      }\n",
    "      ownedBy\n",
    "      dispatcher {\n",
    "        address\n",
    "        canUseRelay\n",
    "      }\n",
    "      stats {\n",
    "        totalFollowers\n",
    "        totalFollowing\n",
    "        totalPosts\n",
    "        totalComments\n",
    "        totalMirrors\n",
    "        totalPublications\n",
    "        totalCollects\n",
    "      }\n",
    "      followModule {\n",
    "        ... on FeeFollowModuleSettings {\n",
    "          type\n",
    "          amount {\n",
    "            asset {\n",
    "              symbol\n",
    "              name\n",
    "              decimals\n",
    "              address\n",
    "            }\n",
    "            value\n",
    "          }\n",
    "          recipient\n",
    "        }\n",
    "        ... on ProfileFollowModuleSettings {\n",
    "         type\n",
    "        }\n",
    "        ... on RevertFollowModuleSettings {\n",
    "         type\n",
    "        }\n",
    "      }\n",
    "    }\n",
    "    pageInfo {\n",
    "      prev\n",
    "      next\n",
    "      totalCount\n",
    "    }\n",
    "  }\n",
    "}\"\"\""
   ]
  },
  {
   "cell_type": "code",
   "execution_count": 3,
   "id": "a7ebd02a",
   "metadata": {},
   "outputs": [
    {
     "name": "stdout",
     "output_type": "stream",
     "text": [
      "200\n",
      "{\"data\":{\"profiles\":{\"items\":[{\"id\":\"0x05\",\"name\":null,\"bio\":null,\"attributes\":[],\"followNftAddress\":\"0xDd749353ECdea76C306528f24B8EbEA358B6709C\",\"metadata\":null,\"isDefault\":false,\"picture\":null,\"handle\":\"letsraave.test\",\"coverPicture\":null,\"ownedBy\":\"0x52EAF3F04cbac0a4B9878A75AB2523722325D4D4\",\"dispatcher\":null,\"stats\":{\"totalFollowers\":91,\"totalFollowing\":1,\"totalPosts\":0,\"totalComments\":0,\"totalMirrors\":0,\"totalPublications\":0,\"totalCollects\":0},\"followModule\":null}],\"pageInfo\":{\"prev\":\"{\\\"offset\\\":0}\",\"next\":\"{\\\"offset\\\":1}\",\"totalCount\":1}}}}\n",
      "\n"
     ]
    }
   ],
   "source": [
    "url = 'https://api-mumbai.lens.dev/playground'\n",
    "r = requests.post(url, json={'query': query_with_id})\n",
    "print(r.status_code)\n",
    "print(r.text)"
   ]
  }
 ],
 "metadata": {
  "kernelspec": {
   "display_name": "Python 3 (ipykernel)",
   "language": "python",
   "name": "python3"
  },
  "language_info": {
   "codemirror_mode": {
    "name": "ipython",
    "version": 3
   },
   "file_extension": ".py",
   "mimetype": "text/x-python",
   "name": "python",
   "nbconvert_exporter": "python",
   "pygments_lexer": "ipython3",
   "version": "3.8.7"
  }
 },
 "nbformat": 4,
 "nbformat_minor": 5
}
