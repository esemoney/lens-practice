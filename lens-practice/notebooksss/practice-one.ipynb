{
 "cells": [
  {
   "cell_type": "code",
   "execution_count": 2,
   "id": "f88c6d2f",
   "metadata": {},
   "outputs": [],
   "source": [
    "import requests\n",
    "import json\n",
    "import pandas as pd"
   ]
  },
  {
   "cell_type": "code",
   "execution_count": 3,
   "id": "047586cc",
   "metadata": {},
   "outputs": [],
   "source": [
    "query = \"\"\"query DefaultProfile {\n",
    "  defaultProfile(request: { ethereumAddress: \"0x3A5bd1E37b099aE3386D13947b6a90d97675e5e3\"}) {\n",
    "    id\n",
    "    name\n",
    "    bio\n",
    "    isDefault\n",
    "    attributes {\n",
    "      displayType\n",
    "      traitType\n",
    "      key\n",
    "      value\n",
    "    }\n",
    "    followNftAddress\n",
    "    metadata\n",
    "    handle\n",
    "    picture {\n",
    "      ... on NftImage {\n",
    "        contractAddress\n",
    "        tokenId\n",
    "        uri\n",
    "        chainId\n",
    "        verified\n",
    "      }\n",
    "      ... on MediaSet {\n",
    "        original {\n",
    "          url\n",
    "          mimeType\n",
    "        }\n",
    "      }\n",
    "    }\n",
    "    coverPicture {\n",
    "      ... on NftImage {\n",
    "        contractAddress\n",
    "        tokenId\n",
    "        uri\n",
    "        chainId\n",
    "        verified\n",
    "      }\n",
    "      ... on MediaSet {\n",
    "        original {\n",
    "          url\n",
    "          mimeType\n",
    "        }\n",
    "      }\n",
    "    }\n",
    "    ownedBy\n",
    "    dispatcher {\n",
    "      address\n",
    "      canUseRelay\n",
    "    }\n",
    "    stats {\n",
    "      totalFollowers\n",
    "      totalFollowing\n",
    "      totalPosts\n",
    "      totalComments\n",
    "      totalMirrors\n",
    "      totalPublications\n",
    "      totalCollects\n",
    "    }\n",
    "    followModule {\n",
    "      ... on FeeFollowModuleSettings {\n",
    "        type\n",
    "        contractAddress\n",
    "        amount {\n",
    "          asset {\n",
    "            name\n",
    "            symbol\n",
    "            decimals\n",
    "            address\n",
    "          }\n",
    "          value\n",
    "        }\n",
    "        recipient\n",
    "      }\n",
    "      ... on ProfileFollowModuleSettings {\n",
    "       type\n",
    "      }\n",
    "      ... on RevertFollowModuleSettings {\n",
    "       type\n",
    "      }\n",
    "    }\n",
    "  }\n",
    "}\"\"\""
   ]
  },
  {
   "cell_type": "code",
   "execution_count": 4,
   "id": "1b30159b",
   "metadata": {},
   "outputs": [
    {
     "name": "stdout",
     "output_type": "stream",
     "text": [
      "200\n",
      "{\"data\":{\"defaultProfile\":{\"id\":\"0x15\",\"name\":\"Yoginth\",\"bio\":\"요기 • Creator of @lenster 🌸 • Bullish on Ξ • BTS Fanboi ⟬⟭ • he/him 🌳\",\"isDefault\":true,\"attributes\":[{\"displayType\":null,\"traitType\":\"string\",\"key\":\"location\",\"value\":\"India\"},{\"displayType\":null,\"traitType\":\"string\",\"key\":\"website\",\"value\":\"https://yogi.codes\"},{\"displayType\":null,\"traitType\":\"string\",\"key\":\"twitter\",\"value\":\"yogicodes\"},{\"displayType\":null,\"traitType\":\"string\",\"key\":\"app\",\"value\":\"Lenster\"}],\"followNftAddress\":\"0x519B98aCFe0d13161aE75E6aEA8C4C60f6418055\",\"metadata\":\"https://arweave.net/oZ8OmxG6QK4XrH3Bs_5gED1k1C_Jb-pp5dPPBi2ZOqQ\",\"handle\":\"yoginth.test\",\"picture\":{\"original\":{\"url\":\"https://lens.infura-ipfs.io/ipfs/Qma8mXoeorvPqodDazf7xqARoFD394s1njkze7q1X4CK8U\",\"mimeType\":null}},\"coverPicture\":{\"original\":{\"url\":\"https://lens.infura-ipfs.io/ipfs/QmR7vBHZm78hsymxYFkQBV4UC42Y4iGyHgyFwisMu9S66B\",\"mimeType\":null}},\"ownedBy\":\"0x3A5bd1E37b099aE3386D13947b6a90d97675e5e3\",\"dispatcher\":{\"address\":\"0x6C1e1bC39b13f9E0Af9424D76De899203F47755F\",\"canUseRelay\":true},\"stats\":{\"totalFollowers\":198,\"totalFollowing\":52,\"totalPosts\":243,\"totalComments\":223,\"totalMirrors\":102,\"totalPublications\":568,\"totalCollects\":159},\"followModule\":null}}}\n",
      "\n"
     ]
    }
   ],
   "source": [
    "url = 'https://api-mumbai.lens.dev/playground'\n",
    "r = requests.post(url, json={'query': query})\n",
    "print(r.status_code)\n",
    "print(r.text)"
   ]
  },
  {
   "cell_type": "code",
   "execution_count": 5,
   "id": "f388a1e1",
   "metadata": {},
   "outputs": [],
   "source": [
    "json_data = json.loads(r.text)\n"
   ]
  },
  {
   "cell_type": "code",
   "execution_count": 6,
   "id": "c7f96ebb",
   "metadata": {},
   "outputs": [],
   "source": [
    "df = pd.DataFrame(json_data)\n"
   ]
  },
  {
   "cell_type": "code",
   "execution_count": 7,
   "id": "a2332db3",
   "metadata": {},
   "outputs": [
    {
     "data": {
      "text/html": [
       "<div>\n",
       "<style scoped>\n",
       "    .dataframe tbody tr th:only-of-type {\n",
       "        vertical-align: middle;\n",
       "    }\n",
       "\n",
       "    .dataframe tbody tr th {\n",
       "        vertical-align: top;\n",
       "    }\n",
       "\n",
       "    .dataframe thead th {\n",
       "        text-align: right;\n",
       "    }\n",
       "</style>\n",
       "<table border=\"1\" class=\"dataframe\">\n",
       "  <thead>\n",
       "    <tr style=\"text-align: right;\">\n",
       "      <th></th>\n",
       "      <th>data</th>\n",
       "    </tr>\n",
       "  </thead>\n",
       "  <tbody>\n",
       "    <tr>\n",
       "      <th>defaultProfile</th>\n",
       "      <td>{'id': '0x15', 'name': 'Yoginth', 'bio': '요기 •...</td>\n",
       "    </tr>\n",
       "  </tbody>\n",
       "</table>\n",
       "</div>"
      ],
      "text/plain": [
       "                                                             data\n",
       "defaultProfile  {'id': '0x15', 'name': 'Yoginth', 'bio': '요기 •..."
      ]
     },
     "execution_count": 7,
     "metadata": {},
     "output_type": "execute_result"
    }
   ],
   "source": [
    "df"
   ]
  },
  {
   "cell_type": "code",
   "execution_count": null,
   "id": "9946fbd5",
   "metadata": {},
   "outputs": [],
   "source": []
  }
 ],
 "metadata": {
  "kernelspec": {
   "display_name": "Python 3.8.7 64-bit",
   "language": "python",
   "name": "python3"
  },
  "language_info": {
   "codemirror_mode": {
    "name": "ipython",
    "version": 3
   },
   "file_extension": ".py",
   "mimetype": "text/x-python",
   "name": "python",
   "nbconvert_exporter": "python",
   "pygments_lexer": "ipython3",
   "version": "3.8.7"
  },
  "vscode": {
   "interpreter": {
    "hash": "86341840eff849e5868e4e40e13a73c94dd818e69782a2c316fb6133ded41621"
   }
  }
 },
 "nbformat": 4,
 "nbformat_minor": 5
}
